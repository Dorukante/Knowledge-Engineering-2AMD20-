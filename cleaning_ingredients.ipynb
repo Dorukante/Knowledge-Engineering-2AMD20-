{
 "cells": [
  {
   "cell_type": "code",
   "execution_count": null,
   "metadata": {},
   "outputs": [],
   "source": [
    "import pandas as pd\n",
    "import numpy as np"
   ]
  },
  {
   "cell_type": "code",
   "execution_count": null,
   "metadata": {},
   "outputs": [],
   "source": [
    "df = pd.read_excel(\"data_cleaned/ingredient_vegan.xlsx\")\n",
    "df"
   ]
  },
  {
   "cell_type": "code",
   "execution_count": null,
   "metadata": {},
   "outputs": [],
   "source": [
    "df[\"category\"].unique()"
   ]
  },
  {
   "cell_type": "code",
   "execution_count": null,
   "metadata": {},
   "outputs": [],
   "source": [
    "old_to_new_category_dct = {' dairy ': 'Dairy and Egg Products', ' cereals ': 'Base/Staple Ingredients', ' breads ': 'Base/Staple Ingredients',\n",
    "       ' fresh vegetables ': 'Vegetables and Fruit', ' vinegars ': 'Sauces and Condiments',\n",
    "       ' baking products ': 'Baking Products', ' dried beans ': 'Beans and Nuts', ' fresh seafood ': 'Proteins',\n",
    "       ' spices and seasonings ': 'Spices and Herbs', ' nuts and seeds ': 'Beans and Nuts', ' grains ': 'Base/Staple Ingredients',\n",
    "       ' alcoholic beverages ': 'Drinks', ' cheese ': 'Dairy and Egg Products', ' canned fish ': 'Proteins',\n",
    "       ' condiments/sauces ': 'Sauces and Condiments', ' pasta/noodles ': 'Base/Staple Ingredients',\n",
    "       ' fresh fruit ': 'Vegetables and Fruit', ' jams and jellies ': 'Sauces and Condiments', ' fruit juices ': 'Drinks',\n",
    "       ' frozen fruit ': 'Vegetables and Fruit', ' canned/bottled fruit ': 'Vegetables and Fruit',' canned/bottled vegetables ': 'Vegetables and Fruit',\n",
    "       ' frozen vegetables ': 'Vegetables and Fruit', ' deli meats ': 'Proteins', ' canned beans ': 'Beans and Nuts',\n",
    "       ' meat/poultry ': 'Proteins', ' dried fruit ': 'Vegetables and Fruit', ' sweeteners ': 'Sauces and Condiments',\n",
    "       ' Oriental noodles ': 'Base/Staple Ingredients', ' hot beverages ': 'Drinks',\n",
    "       ' dried vegetables ': 'Vegetables and Fruit', ' salad dressings ': 'Sauces and Condiments', ' beverages ': 'Drinks',\n",
    "       ' canned/bottled juice ': 'Drinks', ' frozen meat/poultry/seafood ': 'Proteins', ' bread products ': 'Base/Staple Ingredients',\n",
    "       ' Oriental vegetables ': 'Vegetables and Fruit', ' oils and fats ': 'Fats and Oils', ' tomato sauces ': 'Sauces and Condiments',\n",
    "       ' canned dairy ': 'Dairy and Egg Products', ' canned meat ': 'Proteins', ' candy ': 'Snack Foods', ' snack foods ': 'Snack Foods',\n",
    "       ' gelatin ': 'Baking Products', ' fresh herbs ': 'Spices and Herbs', ' cookies/crackers ': 'Dairy and Egg Products',\n",
    "       ' dessert sauces ': 'Sauces and Condiments', ' pickled fruit/vegetables ': 'Vegetables and Fruit',\n",
    "       ' dried seafood ': 'Proteins', ' powdered dairy ': 'Dairy and Egg Products', ' eggs ': 'Dairy and Egg Products',\n",
    "       ' frozen baking products ': 'Baking Products', ' frozen desserts ': 'Dairy and Egg Products',\n",
    "       ' fresh fruit/vegetable juices ': 'Drinks', ' frozen dairy ': 'Dairy and Egg Products', ' baked goods ': 'Baking Products', \n",
    "       ' frozen juices/drinks ': 'Drinks', ' sauces and gravies ': 'Sauces and Condiments', ' soups ': 'Soups', ' Miscellaneous ': '', \n",
    "       ' Mexican products ': '', ' Oriental products ': '', ' deli ': '', ' imported products ': '', \n",
    "       ' prepared foods ': '', ' unnamed location ': '', ' vegetarian products ': '', ' tomato products ': '', ' Kosher products ': ''}"
   ]
  },
  {
   "cell_type": "code",
   "execution_count": null,
   "metadata": {},
   "outputs": [],
   "source": [
    "set(old_to_new_category_dct.values())"
   ]
  },
  {
   "cell_type": "code",
   "execution_count": null,
   "metadata": {},
   "outputs": [],
   "source": [
    "df[\"foodCategory\"] = df[\"category\"].map(old_to_new_category_dct)\n",
    "df"
   ]
  },
  {
   "cell_type": "code",
   "execution_count": null,
   "metadata": {},
   "outputs": [],
   "source": [
    "df.to_excel(\"data_cleaned/ingredient_new_categories.xlsx\", index = False)"
   ]
  },
  {
   "cell_type": "code",
   "execution_count": null,
   "metadata": {},
   "outputs": [],
   "source": [
    "# Label ' Miscellaneous ' manually\n",
    "# Label ' Mexican products ' manually\n",
    "# Label ' Oriental products ' manually\n",
    "# Label ' deli ' manually\n",
    "# Label ' imported products ' manually\n",
    "# Label ' prepared foods ' manually\n",
    "# Label ' unnamed location ' manually\n",
    "# Label ' vegetarian products ' manually\n",
    "# Label ' tomato products ' manually\n",
    "# Label ' Kosher products ' manually"
   ]
  },
  {
   "cell_type": "code",
   "execution_count": null,
   "metadata": {},
   "outputs": [],
   "source": [
    "df_category = pd.read_excel(\"data_cleaned/ingredient_new_categories.xlsx\")\n",
    "df_nutritions = pd.read_csv(\"data_cleaned/final_data_nutrients.csv\")"
   ]
  },
  {
   "cell_type": "code",
   "execution_count": null,
   "metadata": {},
   "outputs": [],
   "source": [
    "df_nutritions = df_nutritions.sort_values(by = \"ingredient_id\").reset_index(drop = True)\n",
    "df_nutritions"
   ]
  },
  {
   "cell_type": "code",
   "execution_count": null,
   "metadata": {},
   "outputs": [],
   "source": [
    "df_final = pd.merge(df_nutritions, df_category, on = [\"ingredient_id\", \"category\", \"name\", \"vegCategory\"])\n",
    "df_final = df_final[['ingredient_id', 'foodCategory', 'name', 'vegCategory', 'category', 'Protein',\n",
    "       'Protein_unit', 'Fiber, total dietary', 'Fiber, total dietary_unit',\n",
    "       'Iron, Fe', 'Iron, Fe_unit', 'Vitamin A, RAE', 'Vitamin A, RAE_unit',\n",
    "       'Vitamin B-12', 'Vitamin B-12_unit', 'Energy', 'Energy_unit',\n",
    "       'Fatty acids, total monounsaturated',\n",
    "       'Fatty acids, total monounsaturated_unit', 'Cholesterol',\n",
    "       'Cholesterol_unit']].copy()\n",
    "df_final.rename(columns = {'category': 'oldCategory'}, inplace = True)\n",
    "df_final"
   ]
  },
  {
   "cell_type": "code",
   "execution_count": null,
   "metadata": {},
   "outputs": [],
   "source": [
    "df_final.to_csv(\"data_cleaned/final_ingredients.csv\", index = False)"
   ]
  }
 ],
 "metadata": {
  "language_info": {
   "name": "python"
  }
 },
 "nbformat": 4,
 "nbformat_minor": 2
}
